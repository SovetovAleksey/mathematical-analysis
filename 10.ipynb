{
  "nbformat": 4,
  "nbformat_minor": 0,
  "metadata": {
    "colab": {
      "provenance": [],
      "authorship_tag": "ABX9TyOUyKbNtyWUNjzaNt1CAWYE",
      "include_colab_link": true
    },
    "kernelspec": {
      "name": "python3",
      "display_name": "Python 3"
    },
    "language_info": {
      "name": "python"
    }
  },
  "cells": [
    {
      "cell_type": "markdown",
      "metadata": {
        "id": "view-in-github",
        "colab_type": "text"
      },
      "source": [
        "<a href=\"https://colab.research.google.com/github/SovetovAleksey/mathematical-analysis/blob/10_quest/10.ipynb\" target=\"_parent\"><img src=\"https://colab.research.google.com/assets/colab-badge.svg\" alt=\"Open In Colab\"/></a>"
      ]
    },
    {
      "cell_type": "markdown",
      "source": [
        "1. Решить уравнения"
      ],
      "metadata": {
        "id": "NiFdfIEq35Kd"
      }
    },
    {
      "cell_type": "markdown",
      "source": [
        "$y' - y = 2x -3$\n",
        "\n",
        "$y' = y + 2x -3$\n",
        "\n",
        "Произведем замену\n",
        "\n",
        "$z = y + 2x - 3$\n",
        "\n",
        "$z' = y' + 2$\n",
        "\n",
        "$y' = z' - 2$\n",
        "\n",
        "$z' - 2 = z$\n",
        "\n",
        "$dz - (2 + z)dx = 0$  $|$ $2 + z \\neq 0$ $z = -2$\n",
        "\n",
        "$\\int\\frac{dz}{z + 2} - \\int{dx} = 0$\n",
        "\n",
        "$ln|z + 2| - x = C$\n",
        "\n",
        "Ответ: $\\begin{cases}\n",
        "   x = ln|2x + y - 3| - C \\\\\n",
        "   2x = y - 3 = -2 ; y = 1 - 2x\n",
        " \\end{cases}$\n",
        "\n",
        "\n",
        "---\n",
        "\n"
      ],
      "metadata": {
        "id": "PKcRyoNI39zD"
      }
    },
    {
      "cell_type": "markdown",
      "source": [
        "$x^2y' + xy + 1 = 0$\n",
        "\n",
        "$x^2 + xy = -1$\n",
        "\n",
        "Решим однородное уравнение\n",
        "\n",
        "$x^2y' + xy = 0$\n",
        "\n",
        "$y' = -\\frac{y}{x}$\n",
        "\n",
        "$\\frac{dy}{y} = -\\frac{dx}{x}$\n",
        "\n",
        "Интегрируем\n",
        "\n",
        "$ln|y| = -ln|x| + ln|C| = ln|\\frac{C}{x}|$\n",
        "\n",
        "$y = \\frac{C}{x}$\n",
        "\n",
        "Положим $C = C(x)$, подставим в исходное уравнение\n",
        "\n",
        "$y' = \\frac{C'x - C}{x^2}$\n",
        "\n",
        "$\\frac{C'x - C}{x^2} + \\frac{C}{x^2} = -\\frac{1}{x^2}$\n",
        "\n",
        "$C'x - C + C + 1 = 0$\n",
        "\n",
        "$C'x = -1$\n",
        "\n",
        "$C' = -\\frac{1}{x}$\n",
        "\n",
        "$C = -ln|x| + C_1$\n",
        "\n",
        "$y = \\frac{-ln|x| + C}{x}$\n",
        "\n",
        "$xy = C - ln|x|$\n",
        "\n",
        "Ответ: $xy = C - ln|x|$\n",
        "\n",
        "\n",
        "---\n",
        "\n"
      ],
      "metadata": {
        "id": "_CAMzse26eyx"
      }
    },
    {
      "cell_type": "markdown",
      "source": [
        "2. Исследовать ряд на сходимость\n",
        "\n"
      ],
      "metadata": {
        "id": "Md-N6Ed78MMW"
      }
    },
    {
      "cell_type": "markdown",
      "source": [
        "$$\\sum_{n=1}^{\\infty} = \\frac{n+2}{n^2 + n + 1}$$\n",
        "\n",
        "Исходное выражение можно упростить:\n",
        "\n",
        "$$\\lim_{n → \\infty}n + 2 = n$$\n",
        "\n",
        "$$\\lim_{n → \\infty}n^2 + n + 1 = n^2$$\n",
        "\n",
        "Тогда исходный ряд можно представить в виде:\n",
        "\n",
        "$$\\lim_{n → \\infty}\\frac{1}{n}$$\n",
        "\n",
        "Исследуем сходимость ряда при помощи интегрального признака сходимости Коши. Рассмотрим несобственный интеграл:\n",
        "\n",
        "$$\\left.\\int_{1}^{\\infty}\\frac{1}{n}dn = ln(n) \\right|_{1}^\\infty  = \\lim_{n → \\infty}ln(n) - 0 = \\infty - 0 = \\infty$$\n",
        "\n",
        "Так как несобственный интеграл расходится, то расходится и исследуемый ряд.\n",
        "\n",
        "\n",
        "---\n",
        "\n"
      ],
      "metadata": {
        "id": "Bl61JWtD8QWr"
      }
    },
    {
      "cell_type": "markdown",
      "source": [
        "$$\\sum_{n=1}^{\\infty} = \\frac{n^n}{n!}$$\n",
        "\n",
        "Признак Даламбера\n",
        "\n",
        "$$D = \\lim_{n → \\infty}\\frac{a_{n+1}}{a_n} = \\lim_{n → \\infty}\\frac{n^n}{n!} \\cdot \\frac{n!(n+1)}{(n+1)^{n+1}} = \\lim_{n → \\infty}\\left(\\frac{n}{n+1}\\right)^n = \\lim_{n → \\infty}\\left(1 - \\frac{1}{n+1}\\right)^n = \\lim_{n → \\infty}\\left(1 - \\frac{1}{n+1}\\right)^{(-n-1)(-1)-1} = e^{-1}$$\n",
        "\n",
        "Так как $D<1$, то ряд сходится\n",
        "\n",
        "\n",
        "---\n",
        "\n"
      ],
      "metadata": {
        "id": "zE6W7-fcFhzs"
      }
    },
    {
      "cell_type": "markdown",
      "source": [
        "$$\\sum_{n=1}^{\\infty} = n \\cdot \\left(1 - \\frac{1}{n}\\right)^{n^2}$$\n",
        "\n",
        "Признак Коши\n",
        "\n",
        "$$D = \\lim_{n → \\infty}\\sqrt[n]{a_n} = \\lim_{n → \\infty}\\sqrt[n]{n \\cdot \\left(1 - \\frac{1}{n}\\right)^{n^2}} = \\lim_{n → \\infty}\\sqrt[n]{n} \\cdot \\left(1 - \\frac{1}{n}\\right)^{n} = 1 \\cdot \\frac{1}{e} = e^{-1}$$\n",
        "\n",
        "Так как $D<1$, то ряд сходится\n",
        "\n",
        "\n",
        "---\n",
        "\n"
      ],
      "metadata": {
        "id": "U9Vxm29JHCWL"
      }
    },
    {
      "cell_type": "markdown",
      "source": [
        "$$\\sum_{n=1}^{\\infty} = \\frac{(-1)^{n+1}}{2n-ln(n)}$$\n",
        "\n",
        "Признак Лейбница\n",
        "\n",
        "1) Ряд является знакочередующимся \\\\\n",
        "2) $$\\lim_{n → \\infty} \\frac{1}{2n - ln(n)} = 0$$\n",
        "\n",
        "Члены ряда убывают по модулю. Ряд сходится\n",
        "\n",
        "\n",
        "---\n",
        "\n"
      ],
      "metadata": {
        "id": "5j6wQD56JDn6"
      }
    },
    {
      "cell_type": "markdown",
      "source": [
        "$$\\sum_{n=1}^{\\infty} = \\frac{(n-2)^{n+1}}{3^n(n+2)}$$\n",
        "\n",
        "Рассмотрим предел исходного ряда.\n",
        "\n",
        "$$\\lim_{n → \\infty}\\frac{(n-2)^{n+1}}{3^n(n+2)} \\neq 0$$\n",
        "\n",
        "Данный предел не равен 0. Необходимое условие сходимости не выполняется, следовательно, ряд расходится."
      ],
      "metadata": {
        "id": "22ULwdnNKRAr"
      }
    }
  ]
}