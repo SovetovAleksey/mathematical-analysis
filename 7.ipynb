{
  "nbformat": 4,
  "nbformat_minor": 0,
  "metadata": {
    "colab": {
      "provenance": [],
      "authorship_tag": "ABX9TyOEOEkzMlaYNPoeGyQaInbs",
      "include_colab_link": true
    },
    "kernelspec": {
      "name": "python3",
      "display_name": "Python 3"
    },
    "language_info": {
      "name": "python"
    }
  },
  "cells": [
    {
      "cell_type": "markdown",
      "metadata": {
        "id": "view-in-github",
        "colab_type": "text"
      },
      "source": [
        "<a href=\"https://colab.research.google.com/github/SovetovAleksey/mathematical-analysis/blob/7_quest/7.ipynb\" target=\"_parent\"><img src=\"https://colab.research.google.com/assets/colab-badge.svg\" alt=\"Open In Colab\"/></a>"
      ]
    },
    {
      "cell_type": "markdown",
      "source": [
        "1. Найти область определения функции."
      ],
      "metadata": {
        "id": "uMvjREqWnGLb"
      }
    },
    {
      "cell_type": "markdown",
      "source": [
        "$z = \\sqrt{1-x^3} + ln(y^2 - 1)$\n",
        "\n",
        "$1 - x^3 \\ge 0$\n",
        "\n",
        "$y^2 - 1 > 0$\n",
        "\n",
        "Область определения\n",
        "\n",
        "\\begin{cases}\n",
        "   x \\le 1 \\\\\n",
        "   y \\in (-\\infty; -1)(1; \\infty)\n",
        " \\end{cases}"
      ],
      "metadata": {
        "id": "3-4UFp_FnLV2"
      }
    },
    {
      "cell_type": "markdown",
      "source": [
        "2. Найти производные 1-го порядка функции."
      ],
      "metadata": {
        "id": "1Qwod7e9rCAr"
      }
    },
    {
      "cell_type": "markdown",
      "source": [
        "$$z = \\left(1 + \\frac{ln x}{ln y}\\right)^3$$\n",
        "\n",
        "$$\\frac{\\partial{z}}{\\partial{x}} = 3\\left(1 + \\frac{ln x}{ln y}\\right)^2 \\cdot \\frac{1}{xlny} = \\frac{3}{xlny}\\left(1 + \\frac{ln x}{ln y}\\right)^2$$\n",
        "\n",
        "$$\\frac{\\partial{z}}{\\partial{y}} = 3\\left(1 + \\frac{ln x}{ln y}\\right)^2 \\cdot \\left(-\\frac{lnx}{yln^2(y)}\\right) = -\\frac{3lnx\\left(1 + \\frac{ln x}{ln y}\\right)^2}{yln^2(y)}$$"
      ],
      "metadata": {
        "id": "yuDRbEMFrIo-"
      }
    },
    {
      "cell_type": "markdown",
      "source": [
        "3.  Найти полный дифференциал функции в точке (1;1)."
      ],
      "metadata": {
        "id": "xKwppS7Yuuik"
      }
    },
    {
      "cell_type": "markdown",
      "source": [
        "$$z = \\sqrt{2xy + cos\\frac{x}{y}}$$\n",
        "\n",
        "$$\\frac{\\partial{z}}{\\partial{x}} = \\frac{1}{2\\sqrt{2xy + cos\\frac{x}{y}}} \\cdot (2y - sin\\frac{x}{y} \\cdot \\frac{1}{y})  = \\frac{2y^2 - sin\\frac{x}{y}}{2y\\sqrt{2xy + cos\\frac{x}{y}}}$$\n",
        "\n",
        "$$\\frac{\\partial{z}}{\\partial{y}} = \\frac{1}{2\\sqrt{2xy + cos\\frac{x}{y}}} \\cdot \\left(2x - sin\\frac{x}{y} \\cdot \\left(-\\frac{x}{y^2}\\right)\\right) = \\frac{2xy^2 + xsin\\frac{x}{y}}{2y^2\\sqrt{2xy + cos\\frac{x}{y}}}$$\n",
        "\n",
        "Дифференциал в общем виде\n",
        "\n",
        "$$dz = \\frac{2y^2 - sin\\frac{x}{y}}{2y\\sqrt{2xy + cos\\frac{x}{y}}}dx + \\frac{2xy^2 + xsin\\frac{x}{y}}{2y^2\\sqrt{2xy + cos\\frac{x}{y}}}dy$$\n",
        "\n",
        "В точке $M(1;1)$\n",
        "\n",
        "$$dz = \\frac{2 \\cdot 1^2 - sin(1)}{2 \\cdot 1\\sqrt{2 \\cdot 1 \\cdot 1 + cos(1)}}dx + \\frac{2 \\cdot 1 \\cdot 1^2+ 1 \\cdot sin(1)}{2 \\cdot 1^2\\sqrt{2 \\cdot 1 \\cdot 1 + cos(1)}}dy = \\frac{1}{2\\sqrt{2 + cos(1)}}\\left[(2 - sin(1))dx \\cdot(2 + sin(1))dy\\right]$$"
      ],
      "metadata": {
        "id": "TAG946CnuwcU"
      }
    },
    {
      "cell_type": "markdown",
      "source": [
        "4.  Исследовать на экстремум функцию"
      ],
      "metadata": {
        "id": "_nUwSIoO7xNj"
      }
    },
    {
      "cell_type": "markdown",
      "source": [
        "$z = x^2 + xy + y^2 - 6x - 9y$\n",
        "\n",
        "Найдем частные производные\n",
        "\n",
        "$$\\frac{\\partial{z}}{\\partial{x}} = 2x + y - 6$$\n",
        "\n",
        "$$\\frac{\\partial{z}}{\\partial{y}} = 2y + x - 9$$\n",
        "\n",
        "Решим систмеу уравнений\n",
        "\n",
        "\\begin{cases}\n",
        "   2x + y - 6 = 0 \\\\\n",
        "   2y + x - 9 = 0\n",
        " \\end{cases}\n",
        "\n",
        " $$x = 1$$\n",
        "\n",
        " $$y = 4$$\n",
        "\n",
        " Критическая точка $M(1;4)$\n",
        "\n",
        " Найдем частные производные второго порядка\n",
        "\n",
        "$$\\frac{\\partial^2{z}}{\\partial{x^2}} = 2$$\n",
        "\n",
        "$$\\frac{\\partial^2{z}}{\\partial{y^2}} = 2$$\n",
        "\n",
        "$$\\frac{\\partial^2{z}}{\\partial{x}\\partial{y}} = 1$$\n",
        "\n",
        "Вычислим значения этих частных производных в критической точке $M(1;4)$\n",
        "\n",
        "$$A = \\frac{\\partial^2{z}}{\\partial{x^2}} | (1;4) = 2$$\n",
        "\n",
        "$$C = \\frac{\\partial^2{z}}{\\partial{y^2}} | (1;4) = 2$$\n",
        "\n",
        "$$B = \\frac{\\partial^2{z}}{\\partial{x}\\partial{y}} | (1;4) = 1$$\n",
        "\n",
        "Достаточное условие экстремума функции 2 переменных\n",
        "\n",
        "$AC - B^2 = 2 \\cdot 2 - 1^2 = 3 > 0$ в точке есть экстремум и $A > 0$ значит \n",
        "это минимум $z(4;1) = 1 + 4 + 16 - 6 - 36 = -21$\n",
        "\n",
        "Ответ: в точке $M(1;4)$ имеется минимум функции $z(1;4) = -21$\n",
        "\n",
        "\n"
      ],
      "metadata": {
        "id": "kaAWWphI71FF"
      }
    }
  ]
}