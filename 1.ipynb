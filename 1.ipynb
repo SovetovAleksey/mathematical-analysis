{
  "nbformat": 4,
  "nbformat_minor": 0,
  "metadata": {
    "colab": {
      "provenance": [],
      "authorship_tag": "ABX9TyMQO97uTeQMn6meMHCqIwi6",
      "include_colab_link": true
    },
    "kernelspec": {
      "name": "python3",
      "display_name": "Python 3"
    },
    "language_info": {
      "name": "python"
    }
  },
  "cells": [
    {
      "cell_type": "markdown",
      "metadata": {
        "id": "view-in-github",
        "colab_type": "text"
      },
      "source": [
        "<a href=\"https://colab.research.google.com/github/SovetovAleksey/mathematical-analysis/blob/1_quest/1.ipynb\" target=\"_parent\"><img src=\"https://colab.research.google.com/assets/colab-badge.svg\" alt=\"Open In Colab\"/></a>"
      ]
    },
    {
      "cell_type": "markdown",
      "source": [
        "1. Представьте в виде несократимой рациональной дроби \\\\\n",
        "  а) 0.(216) \\\\\n",
        "  б) 1.0(01)"
      ],
      "metadata": {
        "id": "y89J6nt3Er0K"
      }
    },
    {
      "cell_type": "markdown",
      "source": [
        "$$a = 0.(216)$$ \\\\\n",
        "\n",
        "$$1000a = 216.(216)$$\\\\\n",
        "\n",
        "$$1000a = 216 + a$$ \\\\\n",
        "\n",
        "$$999a = 216$$\n",
        "\n",
        "$$a = \\frac{216}{999} = \\frac{24}{111} = \\frac{8}{37}$$"
      ],
      "metadata": {
        "id": "HXiwK2TlE9tG"
      }
    },
    {
      "cell_type": "markdown",
      "source": [
        "$$b = 1.0(01)$$\n",
        "\n",
        "$$1000b = 1001.(01)$$\n",
        "\n",
        "$$10b = 10.(01)$$\n",
        "\n",
        "$$1000b - 10b = 1001.(01) - 10.(01)$$\n",
        "\n",
        "$$990b = 991$$\n",
        "\n",
        "$$b = \\frac{991}{990} = 1\\frac{1}{990}$$"
      ],
      "metadata": {
        "id": "cnHzk7BmGt_l"
      }
    },
    {
      "cell_type": "markdown",
      "source": [
        "2. Проверьте любым способом, являются ли данные логические формулы тавтологией \\\\\n",
        "  а) $(A \\vee B) → (B \\vee \\bar{A})$ \\\\\n",
        "  б) $A → (A \\vee (\\bar{B} \\wedge A))$"
      ],
      "metadata": {
        "id": "z03J-DVrK-Ww"
      }
    },
    {
      "cell_type": "markdown",
      "source": [
        "$$(A \\vee B) → (B \\vee \\bar{A})$$\n",
        "\n"
      ],
      "metadata": {
        "id": "QAKPKoQKNXO1"
      }
    },
    {
      "cell_type": "markdown",
      "source": [
        "По свойству коммутативности дизъюнкции"
      ],
      "metadata": {
        "id": "8ymeuYDuQ92b"
      }
    },
    {
      "cell_type": "markdown",
      "source": [
        "$$(A \\vee B) = (B \\vee A) \\neq (B \\vee \\bar{A})$$"
      ],
      "metadata": {
        "id": "qZSxUdW9RC1Q"
      }
    },
    {
      "cell_type": "markdown",
      "source": [
        "Высказывание ложно"
      ],
      "metadata": {
        "id": "mOv5IIriRl_W"
      }
    },
    {
      "cell_type": "markdown",
      "source": [
        "$$A → (A \\vee (\\bar{B} \\wedge A))$$"
      ],
      "metadata": {
        "id": "DbJ3GeRmRpNG"
      }
    },
    {
      "cell_type": "markdown",
      "source": [
        "$$\\begin{matrix}\n",
        "A & B & \\bar{B} & (\\bar{B} \\wedge A) & (A \\vee (\\bar{B} \\wedge A)) & A → (A \\vee (\\bar{B} \\wedge A))\\\\ \n",
        "1 & 1 & 0 & 0 & 1 & 1\\\\\n",
        "1 & 0 & 1 & 1 & 1 & 1\\\\\n",
        "0 & 1 & 0 & 0 & 0 & 1\\\\\n",
        "0 & 0 & 1 & 0 & 0 & 1\n",
        "\\end{matrix}$$"
      ],
      "metadata": {
        "id": "GFFSU9sxRrSB"
      }
    },
    {
      "cell_type": "markdown",
      "source": [
        "Высказвание верно"
      ],
      "metadata": {
        "id": "X40iIYR_T8d2"
      }
    },
    {
      "cell_type": "markdown",
      "source": [
        "3. Сформулируйте словесно высказывания \\\\\n",
        "  а) $(\\bar{A} \\vee B) → \\bar{C}$ \\\\\n",
        "  б) $C → (A \\vee \\bar{B})$ \\\\\n",
        "где А: сегодня светит солнце, В: сегодня сыро, С: я поеду на дачу "
      ],
      "metadata": {
        "id": "rJoRUZHaUKUk"
      }
    },
    {
      "cell_type": "markdown",
      "source": [
        "а) Если сегодня солнце не светит или сегодня сыро, то на дачу не поеду \\\\\n",
        "б) Я поеду на дачу, если сегодня светит солнце или сегодня не сыро"
      ],
      "metadata": {
        "id": "O-b55pxMU4VY"
      }
    }
  ]
}