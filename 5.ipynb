{
  "nbformat": 4,
  "nbformat_minor": 0,
  "metadata": {
    "colab": {
      "provenance": [],
      "authorship_tag": "ABX9TyOUBaJEhxDQ23xOh/rQr804",
      "include_colab_link": true
    },
    "kernelspec": {
      "name": "python3",
      "display_name": "Python 3"
    },
    "language_info": {
      "name": "python"
    }
  },
  "cells": [
    {
      "cell_type": "markdown",
      "metadata": {
        "id": "view-in-github",
        "colab_type": "text"
      },
      "source": [
        "<a href=\"https://colab.research.google.com/github/SovetovAleksey/mathematical-analysis/blob/5_quest/5.ipynb\" target=\"_parent\"><img src=\"https://colab.research.google.com/assets/colab-badge.svg\" alt=\"Open In Colab\"/></a>"
      ]
    },
    {
      "cell_type": "markdown",
      "source": [
        "1. Найти производные указанных функций:"
      ],
      "metadata": {
        "id": "2Tztlr58vpNJ"
      }
    },
    {
      "cell_type": "markdown",
      "source": [
        "1) $y = -10arctg(x) + 7 \\cdot e^x$\n",
        "\n",
        "$y' = -\\frac{10}{1 + x^2} + 7e^x$"
      ],
      "metadata": {
        "id": "TY-chi3ovrS5"
      }
    },
    {
      "cell_type": "markdown",
      "source": [
        "2) $y = \\frac{1}{\\sqrt[3]{x^2}} - \\frac{2}{x^3} + \\sqrt{7} \\cdot x$\n",
        "\n",
        "$y' = (x^{-\\frac{2}{3}})' - (2x^{-3})' + (\\sqrt7 \\cdot x)' = -\\frac{2}{3x\\sqrt[3]{x^2}} + \\frac{6}{x^4} + \\sqrt{7}$"
      ],
      "metadata": {
        "id": "SCKC-ei1wnHy"
      }
    },
    {
      "cell_type": "markdown",
      "source": [
        "3) $y = cos{\\frac{1-\\sqrt{x}}{1 + \\sqrt{x}}}$\n",
        "\n",
        "$y' = (cos{\\frac{1-\\sqrt{x}}{1 + \\sqrt{x}}})' \\cdot (\\frac{1-\\sqrt{x}}{1 + \\sqrt{x}})' = -sin{{\\frac{1-\\sqrt{x}}{1 + \\sqrt{x}}}} \\cdot \\frac{(1-\\sqrt{x})'(1+\\sqrt{x}) - (1-\\sqrt(x))(1+\\sqrt{x})'}{(1+\\sqrt{2})^2} = -sin{{\\frac{1-\\sqrt{x}}{1 + \\sqrt{x}}}} \\cdot \\frac{-\\frac{1 + \\sqrt{x}}{2\\sqrt{x}} - \\frac{1-\\sqrt{x}}{2\\sqrt{x}}}{(1+\\sqrt{x})^2} = sin{{\\frac{1-\\sqrt{x}}{1 + \\sqrt{x}}}} \\cdot \\frac{1}{x\\sqrt{x} + 2x + \\sqrt{x}}$"
      ],
      "metadata": {
        "id": "71dJOAjIyewj"
      }
    },
    {
      "cell_type": "markdown",
      "source": [
        "4) $y = ln\\frac{(x+1)(x+3)^3}{(x+2)^3(x+4)}$\n",
        "\n",
        "$y' = (ln(x+1)(x+3)^3(x+2)^{-3}(x+4)^{-1})' = (ln(x+1)') + 3(ln(x+3)') - 3(ln(x+2)') - (ln(x+4)') = \\frac{1}{x+1} + \\frac{3}{x+3} - \\frac{3}{x+2} - \\frac{1}{x+4}$"
      ],
      "metadata": {
        "id": "BFLn1KbG3dcF"
      }
    },
    {
      "cell_type": "markdown",
      "source": [
        "2. Найти производную данной функции в точке:"
      ],
      "metadata": {
        "id": "KDEb9Xou7052"
      }
    },
    {
      "cell_type": "markdown",
      "source": [
        "$$y = \\frac{lnx}{x}, x_0 = e$$\n",
        "\n",
        "$$y' = \\frac{(ln(x))'x - ln(x)x'}{x^2} = \\frac{1 - ln(x)}{x^2}$$\n",
        "\n",
        "$$y'(x_0) = \\frac{1-ln(e)}{e^2} = \\frac{1-1}{e^2} = 0$$"
      ],
      "metadata": {
        "id": "FerzXINp73u1"
      }
    },
    {
      "cell_type": "markdown",
      "source": [
        "3. Используя логарифмическую производную, найти производную функции"
      ],
      "metadata": {
        "id": "Eda2QrOb97dn"
      }
    },
    {
      "cell_type": "markdown",
      "source": [
        "$$y = x^{lnx}$$\n",
        "\n",
        "$$ln(y) = ln(x^{lnx})$$\n",
        "\n",
        "$$ln(y) = ln(x)ln(x)$$\n",
        "\n",
        "$$(ln(y))' = (ln(x)ln(x))'$$\n",
        "\n",
        "$$\\frac{y'}{y} = (ln(x))'ln(x) + ln(x)(ln(x))'$$\n",
        "\n",
        "$$y' = y(\\frac{lnx}{x} + \\frac{lnx}{x}) = x^{lnx} \\cdot \\frac{2lnx}{x}$$"
      ],
      "metadata": {
        "id": "6-IlHZl_9-Z-"
      }
    },
    {
      "cell_type": "markdown",
      "source": [
        "4. Найти производную неявно заданной функции:"
      ],
      "metadata": {
        "id": "SrcZu3xcADQ4"
      }
    },
    {
      "cell_type": "markdown",
      "source": [
        "$$e^{xy} - cos(x^2 + y^2) = 0$$\n",
        "\n",
        "$$\\frac{\\partial{F(x, y)}}{\\partial{x}} = ye^{xy} +sin(x^2 + y^2) \\cdot 2x$$\n",
        "\n",
        "$$\\frac{\\partial{F(x, y)}}{\\partial{y}} = xe^{xy} + sin(x^2 + y^2) \\cdot 2y$$\n",
        "\n",
        "$$\\frac{\\partial(y)}{\\partial{(x)}} = \\frac{ye^{xy} +sin(x^2 + y^2) \\cdot 2x}{xe^{xy} + sin(x^2 + y^2) \\cdot 2y}$$"
      ],
      "metadata": {
        "id": "6SATf_uyAGWX"
      }
    },
    {
      "cell_type": "markdown",
      "source": [
        "5. Найти производную параметрически заданной функции:"
      ],
      "metadata": {
        "id": "Ka3sUkSoIStL"
      }
    },
    {
      "cell_type": "markdown",
      "source": [
        "$$x = t^3 +t, y = t^2 + t + 1$$\n",
        "\n",
        "$$y'(x) = \\frac{y'(t)}{x'(t)} = \\frac{(t^2 + t + 1)'}{(t^3 + t)'} = \\frac{2t + 1}{3t^2 + 1}$$"
      ],
      "metadata": {
        "id": "dtYFNL4EIVSL"
      }
    }
  ]
}