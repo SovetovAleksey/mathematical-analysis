{
  "nbformat": 4,
  "nbformat_minor": 0,
  "metadata": {
    "colab": {
      "provenance": [],
      "authorship_tag": "ABX9TyMHZW2K9jx/tMvn3wnWhf1v",
      "include_colab_link": true
    },
    "kernelspec": {
      "name": "python3",
      "display_name": "Python 3"
    },
    "language_info": {
      "name": "python"
    }
  },
  "cells": [
    {
      "cell_type": "markdown",
      "metadata": {
        "id": "view-in-github",
        "colab_type": "text"
      },
      "source": [
        "<a href=\"https://colab.research.google.com/github/SovetovAleksey/mathematical-analysis/blob/6_quest/6.ipynb\" target=\"_parent\"><img src=\"https://colab.research.google.com/assets/colab-badge.svg\" alt=\"Open In Colab\"/></a>"
      ]
    },
    {
      "cell_type": "markdown",
      "source": [
        "1. Найти интервалы возрастания и убывания функций:"
      ],
      "metadata": {
        "id": "0ItnNA-ouHV9"
      }
    },
    {
      "cell_type": "markdown",
      "source": [
        "$f(x) = x + e^{-x}$\n",
        "\n",
        "$f'(x) = -e^{-x}$\n",
        "\n",
        "$f'(x) \\neq 0$\n",
        "\n",
        "Производная не может быть равна 0, следовательно нет экстремумов, значит функция постоянно возрастает или убывает, в данном случае возрастает\n",
        "\n",
        "\n",
        "---\n",
        "\n"
      ],
      "metadata": {
        "id": "ZrpuSwMQuKK9"
      }
    },
    {
      "cell_type": "markdown",
      "source": [
        "$f(x) = x lnx$\n",
        "\n",
        "$f'(x) = x'lnx + xlnx' = lnx + \\frac{x}{x} = lnx + 1$\n",
        "\n",
        "$f'(x) = 0$\n",
        "\n",
        "$lnx + 1 = 0$\n",
        "\n",
        "$lnx = -1$\n",
        "\n",
        "Стационарная точка\n",
        "\n",
        "$x = e^{-1}$\n",
        "\n",
        "Подставив значения $e^{-2}$ и $e^{3}$ в производную, получим\n",
        "\n",
        "Функция убывает на интервале $(-\\infty; e^{-1})$ и возрастает на интервале $(e^{-1}; \\infty)$\n",
        "\n",
        "\n",
        "---\n",
        "\n"
      ],
      "metadata": {
        "id": "bPgPCwtfyaLu"
      }
    },
    {
      "cell_type": "markdown",
      "source": [
        "$y = \\frac{1}{1 - x^2}$\n",
        "\n",
        "$y' = \\frac{u'v - uv'}{v^2} = \\frac{0 - (1-x^2)'}{(1-x^2)'} = \\frac{2x}{1 - 2x^2 + x^4}$\n",
        "\n",
        "$y' = 0$\n",
        "\n",
        "$2x = 0$\n",
        "\n",
        "Стационарная точка\n",
        "\n",
        "$x = 0$\n",
        "\n",
        "Подставиви значения $-1$ и $1$ в производную, получим:\n",
        "\n",
        "Функция убывает на интервале $(-\\infty; 0)$ и возрастает на инервале $(0;\\infty)$\n",
        "\n",
        "\n",
        "---\n",
        "\n"
      ],
      "metadata": {
        "id": "JYBoD24z26UB"
      }
    },
    {
      "cell_type": "markdown",
      "source": [
        "2. Найти экстремумы функций:"
      ],
      "metadata": {
        "id": "tdUX955Y49pB"
      }
    },
    {
      "cell_type": "markdown",
      "source": [
        "$f(x) = x^3 - 3x + 1$\n",
        "\n",
        "$f'(x) = 3x^2 - 3$\n",
        "\n",
        "$f'(x) = 0$\n",
        "\n",
        "$3x^2 - 3 = 0$\n",
        "\n",
        "$3x^2 = 3$\n",
        "\n",
        "$x = \\pm1$\n",
        "\n",
        "$f(1) = 1 - 3 + 1 = -1$\n",
        "\n",
        "$f(-1) = -1 + 3 + 1 = 3$\n",
        "\n",
        "$f_{min} = -1$\n",
        "\n",
        "$f_{max} = 3$\n",
        "\n",
        "$f''(x) = 6x$\n",
        "\n",
        "$f''(-1) = -6 < 0$ значит точка $x = -1$ точка макимума функции\n",
        "\n",
        "$f''(1) = 6 > 0$ значит точка $x = 1$ точка минимума функции\n",
        "\n",
        "\n",
        "---"
      ],
      "metadata": {
        "id": "LBIzKPaj5CRg"
      }
    },
    {
      "cell_type": "markdown",
      "source": [
        "$y = e^{x^2 -4x + 5}$\n",
        "\n",
        "$y' = e^{x^2 -4x + 5} \\cdot (2x -4)$\n",
        "\n",
        "$y' = 0$\n",
        "\n",
        "$e^{x^2 -4x + 5} \\cdot (2x -4) = 0$\n",
        "\n",
        "$e^{x^2 -4x + 5} \\neq 0$\n",
        "\n",
        "$2x - 4 = 0$ \n",
        "\n",
        "$x = 2$\n",
        "\n",
        "$y(2) = e^{4 - 8 + 5} = e^1 = e$\n",
        "\n",
        "$y''(2) = e^{x^2 -4x + 5} \\cdot (2x -4)^2 + 2e^{x^2 -4x + 5} = 2e > 0$ значит точка $x = 2$ точка минимума функции\n",
        "\n",
        "\n",
        "---\n",
        "\n"
      ],
      "metadata": {
        "id": "-hUn6UGM57Qq"
      }
    },
    {
      "cell_type": "markdown",
      "source": [
        "$y = x - arctg(x)$\n",
        "\n",
        "$y' = 1 - \\frac{1}{x^2 + 1}$\n",
        "\n",
        "$y' = 0$\n",
        "\n",
        "$1 - \\frac{1}{x^2 + 1} = 0$\n",
        "\n",
        "$\\frac{1}{x^2 + 1} = 1$\n",
        "\n",
        "$x^2 = 0$\n",
        "\n",
        "$x = 0$\n",
        "\n",
        "$y(0) = 0 - arctg(0) = 0$\n",
        "\n",
        "$y''(0) = \\frac{2x}{(x+1)^2} = 0 = 0$ значит точка $x = 0$ точка перегиба функции\n",
        "\n",
        "\n",
        "---\n",
        "\n"
      ],
      "metadata": {
        "id": "Tbn8BC0n8XOD"
      }
    },
    {
      "cell_type": "markdown",
      "source": [
        "3. Найти интервалы выпуклости и точки перегиба функций:"
      ],
      "metadata": {
        "id": "9yl6qqJQ9ccL"
      }
    },
    {
      "cell_type": "markdown",
      "source": [
        "$f(x) = e^{-x^2}$\n",
        "\n",
        "Найдм вторую производную\n",
        "\n",
        "$f'(x) = -2x \\cdot e^{-x^2}$\n",
        "\n",
        "$f''(x) = -2e^{-x^2} + 4x^2e^{-x^2}$\n",
        "\n",
        "Найдем критические точки второй производной\n",
        "\n",
        "$f''(x) = 0$\n",
        "\n",
        "$-2e^{-x^2} + 4x^2e^{-x^2} = 0$\n",
        "\n",
        "$(4x^2 - 2)e^{-x^2} = 0$\n",
        "\n",
        "$4x^2 = 2$\n",
        "\n",
        "$x = \\pm\\frac{1}{\\sqrt2} = \\pm\\frac{\\sqrt2}{2}$\n",
        "\n",
        "Определим знаки второй производной на полученных интервалах $(-\\infty; -\\frac{\\sqrt2}{2})(-\\frac{\\sqrt2}{2}; \\frac{\\sqrt2}{2})(\\frac{\\sqrt2}{2}; \\infty)$.\n",
        "\n",
        "Выберем точки $x = -1$, $x = 0$, $x = 1$ используя метод интервалов\n",
        "\n",
        "$f''(-1)  > 0$\n",
        "\n",
        "$f''(0) = -2e^{-0^2} + 4 \\cdot 0^2e^{-0^2} = -2$\n",
        "\n",
        "$f''(1) > 0$ \n",
        "\n",
        "Таким образом график самой функции является вогнутым на интервале $(-\\infty;- \\frac{\\sqrt2}{2})$, выпуклым на интервале $(-\\frac{\\sqrt2}{2}; \\frac{\\sqrt2}{2})$ и вогнутым на интервале $(\\frac{\\sqrt2}{2};\\infty)$\n",
        "\n",
        "При переходе через $x = \\frac{\\sqrt2}{2}$ и $x = -\\frac{\\sqrt2}{2}$ вторая производная меняет знак, поэтому в данных точках существует перегиб графика.\n",
        "\n",
        "\n",
        "---\n",
        "\n"
      ],
      "metadata": {
        "id": "n6el9xd79liD"
      }
    },
    {
      "cell_type": "markdown",
      "source": [
        "$y = cosx$\n",
        "\n",
        "Найдем вторую прозводную \n",
        "\n",
        "$y' = -sinx$\n",
        "\n",
        "$y'' = -cosx$\n",
        "\n",
        "Найдем критические точки второй производной\n",
        "\n",
        "$y'' = 0$\n",
        "\n",
        "$-cosx = 0$\n",
        "\n",
        "$x_1 = -\\frac{\\pi}{2}$\n",
        "\n",
        "$x_2 = \\frac{\\pi}{2}$\n",
        "\n",
        "Определим знаки второй производной на полученных интервалах $(-\\infty; -\\frac{\\pi}{2})(-\\frac{\\pi}{2}; \\frac{\\pi}{2})(\\frac{\\pi}{2}; \\infty)$\n",
        "\n",
        "Выберем точки $x = -\\pi, x = 0, x = \\pi$ используя метод интервалов\n",
        "\n",
        "$y''(-\\pi) = -cos(-\\pi) = 1$\n",
        "\n",
        "$y''(0) = -cos(0) = -1$\n",
        "\n",
        "$y''(\\pi) = -cos(\\pi) = 1$\n",
        "\n",
        "Таким образом график самой функции является вогнутым на интервале $(-\\infty; -\\frac{\\pi}{2})$, выпуклым на $(-\\frac{\\pi}{2}; \\frac{\\pi}{2})$, вогнутым на $(\\frac{\\pi}{2}; \\infty)$\n",
        "\n",
        "При переходе через $x = -\\frac{\\pi}{2}$ и $x = \\frac{\\pi}{2}$, вотрая производная меняет знак, поэтому в данных точках существует перегиб графика.\n",
        "\n",
        "\n",
        "---\n",
        "\n"
      ],
      "metadata": {
        "id": "_q3z6wjvEKD2"
      }
    },
    {
      "cell_type": "markdown",
      "source": [
        "$y = x^5 - 10x^2 + 7x$\n",
        "\n",
        "Найдем вторую производную\n",
        "\n",
        "$y' = 5x^4 - 20x +7$\n",
        "\n",
        "$y'' = 20x^3 - 20$\n",
        "\n",
        "Найдем критические точки второй производной\n",
        "\n",
        "$y'' = 0$\n",
        "\n",
        "$20x^3 - 20 = 0$\n",
        "\n",
        "$x^3 = 1$\n",
        "\n",
        "$x = 1$\n",
        "\n",
        "Определим знаки второй производной на полученных интервалах $(-\\infty;1)(1;\\infty)$\n",
        "\n",
        "Выберем точки $x = 0$ и $x = 2$ используя метод интервалов\n",
        "\n",
        "$y''(0) = 20 \\cdot 0^3 - 20 < 0$\n",
        "\n",
        "$y''(2) = 20 \\cdot 2^3 - 20 > 0$\n",
        "\n",
        "Таким образом график самой функции является выпуклым на интервале $(-\\infty;1)$ , вогнутым на $(1;\\infty)$\n",
        "\n",
        "Припереходе через $x = 1$ вторая производная меняет свой знак, поэтому в данной точке существует перегиб графика\n",
        "\n",
        "\n",
        "---\n",
        "\n"
      ],
      "metadata": {
        "id": "tMz5dXUQJE9_"
      }
    },
    {
      "cell_type": "markdown",
      "source": [
        "4. Найти асимптоты графиков функций:"
      ],
      "metadata": {
        "id": "EPkT6U84m80x"
      }
    },
    {
      "cell_type": "markdown",
      "source": [
        "$y = \\frac{3x}{x+2}$\n",
        "\n",
        "Функция не определена в точке $x = -2$\n",
        "\n",
        "$$\\lim_{x → -2 + 0} = \\frac{-6 + 0}{-2 + 2 + 0} = -\\infty$$\n",
        "\n",
        "$$\\lim_{x → -2 - 0} = \\frac{-6 - 0}{-2 + 2 - 0} = +\\infty$$\n",
        "\n",
        "Откуда $x = -2 →$ вертикальная асимптота\n",
        "\n",
        "$$k = \\lim_{x → \\infty}\\frac{f(x)}{x} = \\lim_{x → \\infty}\\frac{3}{x+2} = 0$$\n",
        "\n",
        "$$b = \\lim_{x → \\infty}f(x) - kx = \\lim_{x → \\infty}\\frac{3x}{x+2} - 0 \\cdot x = 3$$\n",
        "\n",
        "Откуда $y = 3 →$ горизонтальная асимптота\n",
        "\n",
        "\n",
        "\n",
        "---\n",
        "\n"
      ],
      "metadata": {
        "id": "sHHuM3aOnBdm"
      }
    },
    {
      "cell_type": "markdown",
      "source": [
        "$y = e^{-\\frac{1}{x}}$\n",
        "\n",
        "$$k = \\lim_{x → \\infty}\\frac{f(x)}{x} = \\lim_{x → \\infty}\\frac{e^{-\\frac{1}{x}}}{x} = 0$$\n",
        "\n",
        "$$b = \\lim_{x → \\infty}f(x) - kx = e^{-\\frac{1}{x}} - 0 \\cdot x = 1$$\n",
        "\n",
        "Откуда $y = 1 →$ горизонтальная асимптота\n",
        "\n",
        "При $x → -\\infty$ будет то же самое\n",
        "\n",
        "---\n",
        "\n"
      ],
      "metadata": {
        "id": "KIpt2h9sqpBs"
      }
    },
    {
      "cell_type": "markdown",
      "source": [
        "5. Провести полное исследование и построить графики функции"
      ],
      "metadata": {
        "id": "eHMvxjrUsSg2"
      }
    },
    {
      "cell_type": "markdown",
      "source": [
        "$$y = x^2 \\cdot e^{-x}$$\n",
        "\n",
        "Найдем интервалы возрастания и убывания функции\n",
        "\n",
        "$y' = 2x \\cdot e^{-x} - x^2 \\cdot e^{-x}$\n",
        "\n",
        "$y' = 0$\n",
        "\n",
        "$2x \\cdot e^{-x} - x^2 \\cdot e^{-x} = 0$\n",
        "\n",
        "$2x - x^2 = 0$\n",
        "\n",
        "Стационарные точки\n",
        "\n",
        "$x_1 = 0$\n",
        "\n",
        "$x_2 = 2$\n",
        "\n",
        "Подставиви значения $-1$, $1$, $3$ в производную, получим:\n",
        "\n",
        "$y'(-1) = -3e$\n",
        "\n",
        "$y'(1) = e^{-1}$\n",
        "\n",
        "$y'(3) = -\\frac{3}{e^3}$\n",
        "\n",
        "Функция убывает на интервале $(-\\infty; 0)$, возрастает на инервале $(0;2)$ и убывает на $(2;+\\infty)$\n",
        "\n",
        "Найдем экстремумы функции\n",
        "\n",
        "$f(0)_{min} = 0$\n",
        "\n",
        "$f(2)_{max} = 4e^{-2}$\n",
        "\n",
        "Используем достаточное условие экстремума функции одной переменной. Найдем вторую производную:\n",
        "\n",
        "$f''(x) = 2e^{-x} - 2xe^{-x} - 2xe^{-x} + x^2e^{-x} = \\frac{x^2 - 4x + 2}{e^x}$\n",
        "\n",
        "$f''(0) = 2 > 0$ значит точка $x = 0$ точка минимума функции\n",
        "\n",
        "$f''(2) = \\frac{2 - 4 - 4 + 4}{e^2} = -\\frac{2}{e^2} < 0$ значит точка $x = 2$ точка максимума функции\n",
        "\n",
        "Найдем интервалы выпуклости и вогнутости функции.\n",
        "\n",
        "$f''(x) = \\frac{x^2 - 4x + 2}{e^x}$\n",
        "\n",
        "Найдем корни уравнения\n",
        "\n",
        "$x_1 = 2 + \\sqrt2$\n",
        "\n",
        "$x_2 = 2 - \\sqrt2$\n",
        "\n",
        "Испаользуя метод интервалов, получим, что график самой функции является вогнутым на интервале $(-\\infty; 2 - \\sqrt2)$, выпуклым на интервале $(2 - \\sqrt2;2 + \\sqrt2)$ и вогунтым на $(2 + \\sqrt2;+\\infty)$\n",
        "\n",
        "При переходе через  $x = 2 - \\sqrt2$ и $x = 2 + \\sqrt2$ вторая производная меняет свой знак, поэтому в данных точках существует перегиб графика\n",
        "\n",
        "Найдм асимптоты графика\n",
        "\n",
        "$y = x^2 \\cdot e^{-x}$\n",
        "\n",
        "$$k = \\lim_{x → \\infty}\\frac{f(x)}{x} =\\lim_{x → \\infty} x \\cdot e^{-x} = \\lim_{x → \\infty}\\frac{x}{e^x}$$\n",
        "\n",
        "$\\frac{x^n}{a^x} → 0$, при $x → \\infty$, $a > 1$, $n > 0$\n",
        "\n",
        "Откуда\n",
        "\n",
        "$$k = 0$$\n",
        "\n",
        "$$b = \\lim_{x → \\infty}f(x) - kx = x^2 \\cdot e^{-x} - 0 \\cdot x = 0$$\n",
        "\n",
        "$y = 0$ - горизонтальная асимптота\n",
        "\n",
        "Наклонных асимптот нет, так как при $x → -\\infty$ коэффициент $k = \\infty$\n",
        "\n",
        "![111.png](data:image/png;base64,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)"
      ],
      "metadata": {
        "id": "PYqQNlhWsWan"
      }
    }
  ]
}
