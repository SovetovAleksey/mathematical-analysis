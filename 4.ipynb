{
  "nbformat": 4,
  "nbformat_minor": 0,
  "metadata": {
    "colab": {
      "provenance": [],
      "authorship_tag": "ABX9TyOVJigK+x6G2b3c7cK0g+k3",
      "include_colab_link": true
    },
    "kernelspec": {
      "name": "python3",
      "display_name": "Python 3"
    },
    "language_info": {
      "name": "python"
    }
  },
  "cells": [
    {
      "cell_type": "markdown",
      "metadata": {
        "id": "view-in-github",
        "colab_type": "text"
      },
      "source": [
        "<a href=\"https://colab.research.google.com/github/SovetovAleksey/mathematical-analysis/blob/4_quest/4.ipynb\" target=\"_parent\"><img src=\"https://colab.research.google.com/assets/colab-badge.svg\" alt=\"Open In Colab\"/></a>"
      ]
    },
    {
      "cell_type": "markdown",
      "source": [
        "1. Найти пределы:"
      ],
      "metadata": {
        "id": "4dqHuFedtWCA"
      }
    },
    {
      "cell_type": "markdown",
      "source": [
        "$$\\lim_{x → \\infty}[ln(x+3) - lnx] = \\lim_{x → \\infty}ln(1 + \\frac{3}{x}) = ln(1 + \\frac{3}{\\infty}) = ln(1) = 0$$"
      ],
      "metadata": {
        "id": "d5AdzyDKtcnY"
      }
    },
    {
      "cell_type": "markdown",
      "source": [
        "$$\\lim_{x → 0}\\frac{ln(1+2x)}{arcsin(3x)} = \\lim_{x → 0}\\frac{\\frac{2x}{2x} \\ \\cdot ln(1+2x)}{3x \\cdot \\frac{arcsin(3x)}{3x}} = \\lim_{x → 0}\\frac{2x \\cdot ln(1+2x)^{\\frac{1}{2x}}}{3x \\cdot \\frac{arcsin(3x)}{3x}} = \\lim_{x → 0}\\frac{2x}{3x} = \\frac{2}{3}$$"
      ],
      "metadata": {
        "id": "BypEubzLuKXx"
      }
    },
    {
      "cell_type": "markdown",
      "source": [
        "$$\\lim_{a → 0}\\frac{(x+a)^3 - x^3}{a} = \\lim_{a → 0}\\frac{x^3 + 3x^2a + 3xa^2 + a^3 - x^3}{a} = \\lim_{a → 0}\\frac{a^3 + 3x^2a + 3xa^2}{a} = \\lim_{a → 0}a^2 + 3x^2 + 3xa = 3x^2$$"
      ],
      "metadata": {
        "id": "f5U7G2myzs4E"
      }
    },
    {
      "cell_type": "markdown",
      "source": [
        "$$\\lim_{x → 0}\\frac{1-cos(4x)}{2x \\cdot tg(2x)} = \\lim_{x → 0}\\frac{2sin^22x}{2x \\cdot \\frac{sin2x}{cos2x}} = \\lim_{x → 0}\\frac{2sin(2x)cos(2x)}{2x} = \\lim_{x → 0}\\frac{sin(4x)}{2x} = 2 \\cdot \\lim_{x → 0}\\frac{sin(4x)}{4x} = 2$$"
      ],
      "metadata": {
        "id": "tWNlRHHO115k"
      }
    },
    {
      "cell_type": "markdown",
      "source": [
        "$$\\lim_{x → \\infty}x \\cdot sin\\left(\\frac{2}{x}\\right) = \\lim_{x → \\infty}\\frac{\\frac{2}{x} \\cdot x \\cdot sin\\left(\\frac{2}{x}\\right)}{\\frac{2}{x}} = \\lim_{x → \\infty}\\frac{2 \\cdot sin\\left(\\frac{2}{x}\\right)}{\\frac{2}{x}} = 2$$"
      ],
      "metadata": {
        "id": "2tkOLgKU3w8E"
      }
    },
    {
      "cell_type": "markdown",
      "source": [
        "$$\\lim_{x → 0}(1 + tg(x))^{ctg(x)} = \\lim_{x → 0}\\left(1 + \\frac{1}{ctg(x)}\\right)^{ctg(x)} = e$$"
      ],
      "metadata": {
        "id": "xp5In7c55G9F"
      }
    },
    {
      "cell_type": "markdown",
      "source": [
        "$$\\lim_{x → 0}\\frac{\\sqrt{1 + xsin(x)} - 1}{x^2} = \\lim_{x → 0}\\frac{\\left(\\sqrt{1 + xsin(x)} - 1\\right)\\left(\\sqrt{1 + xsin(x)} + 1\\right)}{x^2\\left(\\sqrt{1 + xsin(x)} + 1\\right)} = \\lim_{x → 0}\\frac{1 + xsin(x) - 1}{x^2\\left(\\sqrt{1 + xsin(x)} + 1\\right)} = \\lim_{x → 0}\\frac{sin(x)}{x\\left(\\sqrt{1 + xsin(x)} + 1\\right)} = \\lim_{x → 0}\\frac{1}{\\sqrt{1 + xsin(x)} + 1} = \\frac{1}{2}$$"
      ],
      "metadata": {
        "id": "BAchm8Gf57zd"
      }
    },
    {
      "cell_type": "markdown",
      "source": [
        "2. Устанавить характер разрыва функции в точке"
      ],
      "metadata": {
        "id": "20F9GTov-Ed_"
      }
    },
    {
      "cell_type": "markdown",
      "source": [
        "а) $$f(x) = \\frac{x^2 - 16}{x + 4}, x_0 = -4$$"
      ],
      "metadata": {
        "id": "lHSpDVhm-K7W"
      }
    },
    {
      "cell_type": "markdown",
      "source": [
        "Функция не определена в точке $x_0 = -4$"
      ],
      "metadata": {
        "id": "1HXoX9xQ-3lP"
      }
    },
    {
      "cell_type": "markdown",
      "source": [
        "$$\\lim_{x → -4}\\frac{x^2-16}{x+4} = \\lim_{x → -4}\\frac{(x-4)(x+4)}{x+4} = \\lim_{x → -4}(x-4) = -8$$"
      ],
      "metadata": {
        "id": "LnyTIjeG_Ar2"
      }
    },
    {
      "cell_type": "markdown",
      "source": [
        "Существует предел, это точка разрыва 1-ого рода, устранимая, т.к. пределы слева и справа будут равны"
      ],
      "metadata": {
        "id": "F1Ej-rW9_ykv"
      }
    },
    {
      "cell_type": "markdown",
      "source": [
        "б) $$f(x) = \\frac{sin(x)}{x}, x_0 = 0$$"
      ],
      "metadata": {
        "id": "orIBxtLlAQ7Q"
      }
    },
    {
      "cell_type": "markdown",
      "source": [
        "Функция не определена в точке $x_0 = 0$"
      ],
      "metadata": {
        "id": "mnsy6w0oAfvn"
      }
    },
    {
      "cell_type": "markdown",
      "source": [
        "$$\\lim_{x → 0}\\frac{sin(x)}{x} = 1$$"
      ],
      "metadata": {
        "id": "_BFwzapPAmD3"
      }
    },
    {
      "cell_type": "markdown",
      "source": [
        "Существует предел, это точка разрыва 1-ого рода, устранимая, т.к. пределы слева и справа будут равны. Можно представить $f(0) = 1$, тогда функция будет неприрывной"
      ],
      "metadata": {
        "id": "HSvSQ7xFAwdP"
      }
    },
    {
      "cell_type": "markdown",
      "source": [
        "3. Исследовать на неприрывность функцию $f(x)$ в точке $x_0$"
      ],
      "metadata": {
        "id": "TxHSQhAcBE-f"
      }
    },
    {
      "cell_type": "markdown",
      "source": [
        "a) $$f(x) = arctg\\frac{2}{x-1}, x_0 = 1$$"
      ],
      "metadata": {
        "id": "OlGMnKU5BPvf"
      }
    },
    {
      "cell_type": "markdown",
      "source": [
        "$$\\lim_{x → 1-0}arctg\\frac{2}{x-1} = arctg\\frac{2}{1-0-1} = -\\infty$$"
      ],
      "metadata": {
        "id": "apnlwGS0Bo-o"
      }
    },
    {
      "cell_type": "markdown",
      "source": [
        "$$\\lim_{x → 1+0}arctg\\frac{2}{x-1} = arctg\\frac{2}{1+0-1} = \\infty$$"
      ],
      "metadata": {
        "id": "rTb3nVXqfLqt"
      }
    },
    {
      "cell_type": "markdown",
      "source": [
        "Предела в точке $x_0 = 1$ не существует, это точка разрыва 2-ого рода. Функция неприрывна на всей числовой оси, кроме точки $x_0 = 1$"
      ],
      "metadata": {
        "id": "wCMPNrabfhB2"
      }
    },
    {
      "cell_type": "markdown",
      "source": [
        "б) $$f(x) = \\frac{1}{2^{x-3}-1}, x_0 = 3$$"
      ],
      "metadata": {
        "id": "Ovif6uPBhyog"
      }
    },
    {
      "cell_type": "markdown",
      "source": [
        "$$\\lim_{x → 3-0}\\frac{1}{2^{x-3}-1} = \\frac{1}{2^{3-0-3}-1} = -\\infty$$"
      ],
      "metadata": {
        "id": "y7hWPFN-iRzl"
      }
    },
    {
      "cell_type": "markdown",
      "source": [
        "$$\\lim_{x → 3+0}\\frac{1}{2^{x-3}-1} = \\frac{1}{2^{3+0-3}-1} = \\infty$$"
      ],
      "metadata": {
        "id": "1xGt2wC6i7NM"
      }
    },
    {
      "cell_type": "markdown",
      "source": [
        "Предела в точке $x_0 = 3$ не существует, это точка разрыва 2-ого рода. Функция неприрывна на всей числовой оси, кроме точки $x_0 = 3$"
      ],
      "metadata": {
        "id": "uOR0jWl0jBDb"
      }
    },
    {
      "cell_type": "markdown",
      "source": [
        "4. Исследуйте функцию на непрерывность, укажите\n",
        "тип точек разрыва и построить график функции:"
      ],
      "metadata": {
        "id": "TC4G-dJOmlPb"
      }
    },
    {
      "cell_type": "markdown",
      "source": [
        "$$f(x) =  \\begin{cases}\n",
        "   cos\\frac{\\pi x}{2} & при &  |x| \\le 1\\\\\n",
        "   |x - 1| & при & |x| \\ge 1\n",
        " \\end{cases}$$"
      ],
      "metadata": {
        "id": "KyACdlazmm6g"
      }
    },
    {
      "cell_type": "markdown",
      "source": [
        "Найдем предел для точки $x_0 = 1$\n",
        "\n",
        "$$\\lim_{x → 1-0}cos\\frac{\\pi x}{2} = cos\\left(-\\frac{\\pi}{2}\\right) = 0$$\n",
        "\n",
        "$$\\lim_{x → 1+0}cos\\frac{\\pi x}{2} = cos\\left(\\frac{\\pi}{2}\\right) = 0$$\n",
        "\n",
        "Найдем предел для точки $x_1 = -1$\n",
        "\n",
        "$$\\lim_{x → -1-0}cos\\frac{\\pi x}{2} = cos\\left(\\frac{\\pi}{2}\\right) = 0$$\n",
        "\n",
        "$$\\lim_{x → -1+0}cos\\frac{\\pi x}{2} = cos\\left(-\\frac{\\pi}{2}\\right) = 0$$\n",
        "\n",
        "Найдем предел для точки $x_2 = 1$\n",
        "\n",
        "$$\\lim_{x → 1-0}|x-1| = |1-0-1| = 0$$\n",
        "\n",
        "$$\\lim_{x → 1+0}|x-1| = |1+0-1| = 0$$\n",
        "\n",
        "Найдем предел для точки $x_3 = -1$\n",
        "\n",
        "$$\\lim_{x → -1-0}|x-1| = |-1-0-1| = 2$$\n",
        "\n",
        "$$\\lim_{x → -1-0}|x-1| = |-1-0-1| = 2$$"
      ],
      "metadata": {
        "id": "DbUY3Bk4pThC"
      }
    },
    {
      "cell_type": "markdown",
      "source": [
        "Значения пределов в точке $x = -1$ не равны. Это точка разрыва 1-ого рода\n",
        "Значения пределов в точке $x = 1$ равны. В этой точке функция не прерывается"
      ],
      "metadata": {
        "id": "tnb66VqBxqjH"
      }
    },
    {
      "cell_type": "markdown",
      "source": [
        "![image1.png](data:image/png;base64,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)"
      ],
      "metadata": {
        "id": "45R3uWQnypvV"
      }
    }
  ]
}