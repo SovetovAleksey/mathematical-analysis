{
  "nbformat": 4,
  "nbformat_minor": 0,
  "metadata": {
    "colab": {
      "provenance": [],
      "collapsed_sections": [],
      "authorship_tag": "ABX9TyOUXZoSQRZHQrhmLIoQhsbW",
      "include_colab_link": true
    },
    "kernelspec": {
      "name": "python3",
      "display_name": "Python 3"
    },
    "language_info": {
      "name": "python"
    }
  },
  "cells": [
    {
      "cell_type": "markdown",
      "metadata": {
        "id": "view-in-github",
        "colab_type": "text"
      },
      "source": [
        "<a href=\"https://colab.research.google.com/github/SovetovAleksey/mathematical-analysis/blob/2_quest/2.ipynb\" target=\"_parent\"><img src=\"https://colab.research.google.com/assets/colab-badge.svg\" alt=\"Open In Colab\"/></a>"
      ]
    },
    {
      "cell_type": "markdown",
      "source": [
        "# 1) Найти пределы:"
      ],
      "metadata": {
        "id": "czweBgLmQRoK"
      }
    },
    {
      "cell_type": "markdown",
      "source": [
        "a) $$\\lim_{n → ∞}{\\frac{10n}{n^2 + 1}} = \\lim_{n → ∞}{\\frac{\\frac{10}{n}}{1 + \\frac{1}{n^2}}} = \\lim_{n → ∞}{\\frac{0}{1 + 0}} =  \\frac{0}{1} = 0$$"
      ],
      "metadata": {
        "id": "Qv7_a_QgQonq"
      }
    },
    {
      "cell_type": "markdown",
      "source": [
        "б) $$\\lim_{n → ∞}{\\frac{n^2 - n}{n - \\sqrt{n}}} = \\lim_{n → ∞}{\\frac{(n - \\sqrt{n})(n + \\sqrt{n})}{n - \\sqrt{n}} = \\lim_{n → ∞}{(n + \\sqrt{n})} = ∞}$$"
      ],
      "metadata": {
        "id": "7FITBtctSEKK"
      }
    },
    {
      "cell_type": "markdown",
      "source": [
        "в) $$\\lim_{n → ∞}{\\frac{5 \\cdot 3^n}{3^n -2}} = \\lim_{n → ∞}{\\frac{5}{1 - \\frac{2}{3^n}}} = \\lim_{n → ∞}{\\frac{5}{1 - 0}} = 5$$"
      ],
      "metadata": {
        "id": "PTctzdwFTH-y"
      }
    },
    {
      "cell_type": "markdown",
      "source": [
        "# 2) Найти предел"
      ],
      "metadata": {
        "id": "gmkzp6rwT5UB"
      }
    },
    {
      "cell_type": "markdown",
      "source": [
        "$$\\lim_{n → ∞}{(\\sqrt{n^2 + n} - n)} = \\lim_{n → ∞}{\\frac{(\\sqrt{n^2 + n} - n)(\\sqrt{n^2 + n} + n)}{\\sqrt{n^2 + n} + n}} = \\lim_{n → ∞}{\\frac{n^2 + n - n^2}{\\sqrt{n^2 + n} + n}} = \\lim_{n → ∞}{\\frac{n}{\\sqrt{n^2 + n} + n}} = \\lim_{n → ∞}{\\frac{1}{\\sqrt{1 + \\frac{1}{n}} + 1}} = \\lim_{n → ∞}{\\frac{1}{1 + 1}} = \\frac{1}{2}$$"
      ],
      "metadata": {
        "id": "G98gxTPGT8px"
      }
    },
    {
      "cell_type": "markdown",
      "source": [
        "# 3) Вычислить"
      ],
      "metadata": {
        "id": "y-m16T-WWzkx"
      }
    },
    {
      "cell_type": "markdown",
      "source": [
        "$$\\lim_{n → ∞}{\\frac{\\sqrt{n}\\cos{n}}{n + 1}}$$"
      ],
      "metadata": {
        "id": "gURLnQH7W3Uw"
      }
    },
    {
      "cell_type": "markdown",
      "source": [
        "По теореме о двух милиционерах:"
      ],
      "metadata": {
        "id": "C8sEulU6akA4"
      }
    },
    {
      "cell_type": "markdown",
      "source": [
        "$$-1 \\le \\cos{n} \\le 1$$"
      ],
      "metadata": {
        "id": "S5ZXqJUKa4tv"
      }
    },
    {
      "cell_type": "markdown",
      "source": [
        "Следовательно"
      ],
      "metadata": {
        "id": "9GWt7URIcHLP"
      }
    },
    {
      "cell_type": "markdown",
      "source": [
        "$$-\\frac{\\sqrt{n}}{n + 1} \\le \\frac{\\sqrt{n}\\cos{n}}{n + 1} \\le \\frac{\\sqrt{n}}{n + 1}$$"
      ],
      "metadata": {
        "id": "hI7sYq3WcIUv"
      }
    },
    {
      "cell_type": "markdown",
      "source": [
        "Их пределы"
      ],
      "metadata": {
        "id": "IL6viNw3ciPG"
      }
    },
    {
      "cell_type": "markdown",
      "source": [
        "$$\\lim_{n → ∞}{\\pm\\frac{\\sqrt{n}}{n + 1}} = \\lim_{n → ∞}{\\pm\\frac{\\frac{1}{\\sqrt{n}}}{1 + \\frac{1}{n}}} = \\lim_{n → ∞}{\\pm\\frac{0}{1 + 0}} = \\pm 0$$"
      ],
      "metadata": {
        "id": "w8-t-caccj42"
      }
    },
    {
      "cell_type": "markdown",
      "source": [
        "Откуда"
      ],
      "metadata": {
        "id": "DaYLzfOueIIv"
      }
    },
    {
      "cell_type": "markdown",
      "source": [
        "$$\\lim_{n → ∞}{\\frac{\\sqrt{n}\\cos{n}}{n + 1}} = 0$$"
      ],
      "metadata": {
        "id": "9uFwYyD_eKCe"
      }
    }
  ]
}